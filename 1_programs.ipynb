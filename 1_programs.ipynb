{
 "cells": [
  {
   "cell_type": "markdown",
   "metadata": {
    "slideshow": {
     "slide_type": "slide"
    }
   },
   "source": [
    "# Programs"
   ]
  },
  {
   "cell_type": "markdown",
   "metadata": {
    "slideshow": {
     "slide_type": "fragment"
    }
   },
   "source": [
    "## Table of Contents\n",
    "\n",
    "* [1. Introduction to These Notebooks](#introduction)\n",
    "* [2. Algorithms](#algorithms)\n",
    "* [3. Languages](#languages)\n",
    "* [4. Python](#python)\n",
    "* [5. Programs](#programs)\n",
    "* [6. Interpreters and Compilers](#interpreters-compilers)\n",
    "* [7. Comments](#comments)\n",
    "* [8. Our First Program](#first-program)\n",
    "* [9. Arithmetic Operators](#arithmetic-operators)\n",
    "* [10. What Can Go Wrong?](#wrong)\n",
    "* [11. Summary](#summary)"
   ]
  },
  {
   "cell_type": "markdown",
   "metadata": {
    "slideshow": {
     "slide_type": "slide"
    },
    "tags": []
   },
   "source": [
    "## 1. Introduction to These Notebooks <a class=\"anchor\" id=\"introduction\"></a>\n",
    "\n",
    "These files are Jupyter notebooks designed to accompany the digital book **Python Programming by Doing**.\n",
    "Its content is based on the books **Python for Everybody** by **Charles Severance** and **Think Python (2nd edition)** by **Allen Downey**. \n",
    "The code fragments have mostly been taken from the books and adapted in many cases.\n",
    "You are encouraged to **play along** in these files as you read the material. \n",
    "\n",
    "**The more you practice programming the better your programming skills will become! You do not learn programming by just reading code, you have to write the code yourself!**\n",
    "\n",
    "**However, before writing the first line of code, you have to solve the problem in your head, on a blackboard, or on paper. If you start solving the problem at hand by immediately writing code, you will spend a lot of time because it is a very inefficient way of working. It is too much \n",
    "trial-and-error. You first need to understand the problem, mentally create a solution, figure out whether you have dealt with all possible exceptions, also called (corner) cases, and then start writing the code.**\n",
    "\n",
    "To evaluate a cell, select it by clicking on it, and then click the `Run` cell button in the toolbar at the top, or press `Shift + Enter`. \n",
    "If this is your first use of Jupyter, then take the **User Interface Tour** (see `Help > User Interface Tour`). See `Help > Notebook Help` for more details, such as how to format Markdown cells.\n",
    "\n",
    "To find out about **keyboard shortcuts** for Jupyter commands,\n",
    "see `Help > Keyboard Shortcuts`.\n",
    "Pressing `Cmd + Shift + P` (MacOS) / `Ctrl + Shift + P` (Windows, Linux)\n",
    "shows an overview of all commands.\n",
    "\n",
    "<div class=\"alert alert-info\">\n",
    "    <b>Extra information</b><br>\n",
    "    Occasionally, we have added a bit of extra information. This information can be found in these frames.\n",
    "</div>"
   ]
  },
  {
   "cell_type": "markdown",
   "metadata": {},
   "source": [
    "## 2. Algorithms <a class=\"anchor\" id=\"algorithms\"></a>\n",
    "\n",
    "We can apply reasoning to address issues in daily life. \n",
    "We rely on so-called algorithms to accomplish this. \n",
    "Algorithms are not the same as logic. \n",
    "On the other hand, an algorithm makes decisions about how to solve a (well specified) problem using logic. \n",
    "A finite series of precise instructions used to solve a problem is known as a \"algorithm,\" in short. \n",
    "This definition makes it appear as though we develop, improve, and use algorithms every single day of our lives, doesn't it? \n",
    "Consider the algorithm (or series of processes) you use to bake a cake or prepare a certain meal, or the algorithm you use to get dressed in the morning. \n",
    "We have assimilated those algorithms as well.\n",
    "\n",
    "To design an algorithm, we usually first need to specify the following set of elements:\n",
    "1. the **problem** to be solved or question to be answered. If you do not have a well-defined problem you might end up designing a very efficient but *useless* algorithm that does not solve the problem at hand. Thus, ensure you understand the problem before thinking about a solution;\n",
    "2. the **inputs** of the algorithm–that is, the data you require to compute the solution;\n",
    "3. the **output** of the algorithm–that is, the expected data that you want to get out of your solution, and;\n",
    "4. the **algorithm** or sequence of steps that you will follow to come up with an answer.\n",
    "\n",
    "\n",
    "<div class=\"alert alert-info\">\n",
    "    Get used to <b>always</b> writing down these 4 elements before you start solving a programming problem.\n",
    "</div>\n",
    "\n",
    "Without having a clear picture of your problem, and the expected inputs and output to solve that problem, it will be unlikely that you will be able to come up with a proper algorithm. \n",
    "Furthermore, beware that for algorithms to be useful, they should **terminate** at some point (they cannot just run forever without providing a solution!) and output a correct result. An algorithm is **correct** if it outputs the right solution to every possible input. \n",
    "Proving this might be unfeasible, which is why testing your algorithm (maybe after implementing a program) is crucial.\n",
    "\n",
    "In order solve a particular problem there maybe a whole range of algorithms, not just one. The difference is often in the way a problem is solved, the amount of data that needs to be processed, etc. An important measure to compare algorithms is complexity, not complexity of the code, but the number of steps needed to solve the problem at hand. An algorithm maybe linear, quadratic, cubic, exponential. Given some input does the algorithm need a linear number of steps to calculate the output, a quadratic number of steps, etc. For small inputs, exponential is not a real problem but a small increase in the number of data points in the input may already be problematic in case of exponential.\n",
    "\n",
    "<div class=\"alert alert-info\">\n",
    "    <b>Algorithm</b><br>\n",
    "    <p> An algorithm is a finite sequence of clearly defined instructions used to solve a specific problem.<p>\n",
    "</div>"
   ]
  },
  {
   "cell_type": "markdown",
   "metadata": {},
   "source": [
    "## 3. Languages <a class=\"anchor\" id=\"languages\"></a>\n",
    "\n",
    "> “The limits of my language mean the limits of my world.” - Ludwig Wittgenstein\n",
    "\n",
    "Writing down an algorithm is of great importance given that you do not only guarantee that you can execute the algorithm in future opportunities, but you also provide a means to share the algorithm, so other people can benefit from what you designed. \n",
    "To be able to *write down* the algorithm, we require an additional tool–that is, a (programming) language. \n",
    "However, the algorithms we want to write down must be written in a language that can be understood by a computer.\n",
    "But beware! The computer is not the only other entity that needs to understand your algorithm: what you write down should be understood by both the machine and other people that might read it afterward (including the *you* from the future).\n",
    "\n",
    "A **language** is a system of communication. It has a *syntax* and *semantics*: \n",
    "\n",
    "* The **syntax** of a language describes the form or structure of the language constructs. The syntax can be defined with a *grammar*, which is a set of rules that specify how to build a correct sentence in the language.\n",
    "* The **semantics** describe the meaning of language constructs.\n",
    "\n",
    "Languages can also be classified as *natural* or *formal*:\n",
    "\n",
    "* **Natural languages** are languages used by people to communicate with each other (e.g. English, Spanish, Dutch, Arabic). They were not designed from the very beginning; on the contrary, they evolved naturally over time.\n",
    "* **Formal languages** are languages designed by humans for specific domains or purposes. They usually are simplified models of natural language. Examples of formal languages are the mathematical, chemical, or staff (standard music notation) notations. There is also a very important example that interests us the most: programming languages. \n",
    "\n",
    "\n",
    "### Programming Languages\n",
    "\n",
    "**Programming languages** are formal languages with very strict *syntax* and *semantics*. \n",
    "These languages are used to write down algorithms. \n",
    "\n",
    "<div class=\"alert alert-info\">\n",
    "    <b>Language</b><br>\n",
    "    <p>A language is a system of communication, that has syntax and semantics. The syntax describes the form of the language, while the semantics describes its meaning. A language can be either natural (evolves naturally) or formal (designed for a specific domain or purpose). Programming languages are a sort of formal languages and are used to allow communication between humans and computers.<p>\n",
    "</div>"
   ]
  },
  {
   "cell_type": "markdown",
   "metadata": {},
   "source": [
    "## 4. Python <a class=\"anchor\" id=\"python\"></a>\n",
    "\n",
    "**Python** is an example of a programming language. \n",
    "It was conceptualized in 1989 by Guido van Rossum when working at the Centrum Wiskunde & Informatica (CWI), in Amsterdam. \n",
    "Python saw its beginnings in the ABC programming language (see https://en.wikipedia.org/wiki/ABC_(programming_language)). \n",
    "The name Python–referring to this monumental sort of snake–actually comes from an old BBC series called Monty Python’s Flying Circus. \n",
    "Guido was reading the scripts of the series and he found out that Python sounded \"short, unique, and slightly mysterious\", which is why he decided to adopt the name.\n",
    "\n",
    "<img src=\"assets/guido-van-rossum.jpeg\" alt=\"Guido van Rossum\" width=\"400\"/>\n",
    "\n",
    "<div style=\"text-align:center\">\n",
    "    <span style=\"font-size:0.9em; font-weight: bold;\">Guido van Rossum, creator of the Python programming language.</span>\n",
    "</div>\n",
    "\n",
    "\n",
    "### The Zen of Python\n",
    "In 1999, Tim Peters–one of Python's main contributors– wrote a collection of 19 principles that influence the design of the Python programming language. \n",
    "This collection is now known as the Zen of Python. \n",
    "Peters mentioned that the 20$^{th}$ principle is meant to be filled in by Guido in the years to come. \n",
    "Have a look at the principles. \n",
    "You can consider them as guidelines for the construction of your own programs.\n",
    "\n",
    "```\n",
    "Beautiful is better than ugly.  \n",
    "Explicit is better than implicit.  \n",
    "Simple is better than complex.  \n",
    "Complex is better than complicated.  \n",
    "Flat is better than nested.  \n",
    "Sparse is better than dense.  \n",
    "Readability counts.  \n",
    "Special cases aren't special enough to break the rules.  \n",
    "Although practicality beats purity.  \n",
    "Errors should never pass silently.  \n",
    "Unless explicitly silenced.  \n",
    "In the face of ambiguity, refuse the temptation to guess.  \n",
    "There should be one -- and preferably only one -- obvious way to do it.  \n",
    "Although that way may not be obvious at first unless you're Dutch.  \n",
    "Now is better than never.  \n",
    "Although never is often better than *right* now.  \n",
    "If the implementation is hard to explain, it's a bad idea.  \n",
    "If the implementation is easy to explain, it may be a good idea.  \n",
    "Namespaces are one honking great idea -- let's do more of those!   \n",
    "```\n",
    "\n",
    "<div class=\"alert alert-info\">\n",
    "    <b>Python Style Guide</b> <br/>\n",
    "    For more details have a look at the <b>Python Style Guide</b> that accompanies this course. It is based on the PEP 8.\n",
    "</div>"
   ]
  },
  {
   "cell_type": "markdown",
   "metadata": {
    "slideshow": {
     "slide_type": "slide"
    },
    "tags": []
   },
   "source": [
    "## 5. Programs <a class=\"anchor\" id=\"programs\"></a>\n",
    "\n",
    "A **program** is a set of algorithms written in a given programming language, used to solve a specific problem. \n",
    "Programming is part of *software engineering*. \n",
    "**Software engineering** is the discipline of solving\n",
    "problems in a structured way by developing high-quality software in efficiently. \n",
    "\n",
    "It is also important to realize that software may have a very long timespan and a lot of modifications may be performed in the software over this timespan.\n",
    "If you walk, for instance, into the software development department of an arbitrary bank in the Netherlands, you will find operational COBOL code written somewhere between 1960 and 1970. So this code is already 50 to 60 years old. \n",
    "In this timespan a lot has changed, namely: we had the Y2K challenge, the introduction of the Euro, merging of banks, and changes in legislations. \n",
    "All these changes had to be implemented in the COBOL code that keeps the bank operational 24/7. \n",
    "\n",
    "Keep this in mind when you are writing code, by creating a clear structure, choosing the right names for variables, functions, classes, and methods, and finally to add useful documentation to the code.\n",
    "\n",
    "There is a lot more to tell about *software engineering* but for the moment this is suffient. \n",
    "Actually, *software engineering* is an entire research field."
   ]
  },
  {
   "cell_type": "markdown",
   "metadata": {
    "slideshow": {
     "slide_type": "slide"
    }
   },
   "source": [
    "## 6. Interpreters and Compilers <a class=\"anchor\" id=\"interpreters-compilers\"></a>\n",
    "\n",
    "Computers only understand machine language. This language is written exclusively in zeros and ones, so it looks somehow like this:"
   ]
  },
  {
   "cell_type": "markdown",
   "metadata": {
    "slideshow": {
     "slide_type": "fragment"
    }
   },
   "source": [
    "0011101000111010  \n",
    "1011010100001010"
   ]
  },
  {
   "cell_type": "markdown",
   "metadata": {
    "slideshow": {
     "slide_type": "subslide"
    }
   },
   "source": [
    "It is cumbersome for programmers to write programs in such language. That is why we need translators that map _high-level languages_ like Python to machine language. A high-level language is a programming language designed to be used by humans in an intuitive way. These translators can be either _interpreters_ or _compilers_.\n",
    "\n",
    "- **Interpreter:** it reads the source code of a program written by a human, parses it and translates it on the fly. Python is an example of an interpreted programming language.\n",
    "- **Compiler:** it takes the whole program written in a high-level language and translates it into machine language. This translation is saved in an independent file that can be later used for execution. An executable file is usually labelled with the _.exe_ or _.dll_ extensions in Windows. There is no unique suffix for Mac or Linux. If you open a file like this in a text editor it will look somehow like this:"
   ]
  },
  {
   "cell_type": "markdown",
   "metadata": {
    "slideshow": {
     "slide_type": "fragment"
    }
   },
   "source": [
    "```\n",
    "äE\u0000Lâ˜ËÙìJ\u0000Hã{(HÖˇtæË*íJ\u0000Î∑LâΩ\u0018˚ˇˇHãΩ\u0010˚ˇˇË\u001bíJ\u0000ÉΩà˝ˇˇ\u0001\u000fÖ0\u0003\u0000\u0000HãΩ®˝ˇˇË,íJ\u0000H«Ö\u0010˚ˇˇ\u0000\u0000\u0000\u0000H∏\u0000\u0000\u0000\u0000ˇˇˇˇHâÖ\u0018˚ˇˇ1ˆ1“LâÔË‘∂ˇˇHãÖ†˝ˇˇLãpXMÖˆttAˇ\u000eunIã~@HÖˇt\tIâ~HË≤ëJ\u0000Mã~ MÖˇt9IãF(L9¯t$HçX–HãxËHÖˇt\tHâxËäëJ\u0000HâÿI9ﬂu‚Iã~ Î\u0003LâˇMâ~(ËpëJ\u0000Iã~\bHÖˇt\tIâ~\u0010Ë^ëJ\u0000Lâ˜ËVëJ\u0000f\u000foÖ\u0010˚ˇˇHãÖ†˝ˇˇÛ\u000f@Xf\u000fÔ…Û\u000fHhHâ«HÉ«xfI\u000f~∆1ˆ1“ËûπˇˇMÖˆttAˇ\u000eunIã~@HÖˇt\tIâ~HË\u0007ëJ\u0000Mã~ MÖˇt9IãF(L9¯t$HçX–HãxËHÖˇt\tHâxËﬂêJ\u0000HâÿI9ﬂu‚Iã~ Î\u0003LâˇMâ~(Ë≈êJ\u0000Iã~\bHÖˇt\tIâ~\u0010Ë≥êJ\u0000Lâ˜Ë´êJ\u0000Ë÷êJ\u0000Lã≠x˝ˇˇHãù0˝ˇˇLãΩÄ˝ˇˇÈÅﬂˇˇHãµx˝ˇˇË ≈ˇˇH9¬LãΩ–¸ˇˇLã≠p˝ˇˇ\u000fÜô\u0000\u0000\u0000Hâ”Lçµ\u0010˚ˇˇf\u000f\u001fÑ\u0000\u0000\u0000\u0000\u0000HâÖ\u0010˚ˇˇHâù\u0018˚ˇˇIãE\u0018HâÖ ˚ˇˇH«Ö(˚ˇˇ\u0000\u0000\u0000\u0000IãG\bI;G\u0010t2Hãç(˚ˇˇHâH\u0018Hãç ˚ˇˇHâH\u0010Hãç\u0010˚ˇˇHãï\u0018˚ˇˇHâP\bHâ\bIÉG\b Î\u000b",
    "\n",
    "\n",
    "```"
   ]
  },
  {
   "cell_type": "markdown",
   "metadata": {
    "tags": []
   },
   "source": [
    "## 7. Comments <a class=\"anchor\" id=\"comments\"></a>\n",
    "\n",
    "A program is more than just a list of instructions to be executed.\n",
    "It is also a means of documenting your ideas and a means of communication to fellow software developers.\n",
    "So, it is very important to add comments, if needed, to your programs, so you explain in natural language what the program is doing. \n",
    "\n",
    "*If needed* because, one challenge is not to write trivial comments, such as \"the value 1 is assigned to the variable x\".\n",
    "Such a comment is useless.\n",
    "\n",
    "Another challenge is to keep comments up to date, so if you change a program make sure the comments are still valid. \n",
    "It is a nightmare to maintain software with outdated comments.\n",
    "\n",
    "A Python comment starts with `#`, and extends to the end of the line.\n",
    "It is ignored during execution."
   ]
  },
  {
   "cell_type": "code",
   "execution_count": null,
   "metadata": {},
   "outputs": [],
   "source": [
    "# This is a Python comment."
   ]
  },
  {
   "cell_type": "markdown",
   "metadata": {
    "slideshow": {
     "slide_type": "slide"
    }
   },
   "source": [
    "## 8. Our First Program <a class=\"anchor\" id=\"first-program\"></a>\n",
    "\n",
    "The first program any developer writes is the \"Hello World!\" printing program.\n",
    "However, we took the liberty to change this boring first program a bit."
   ]
  },
  {
   "cell_type": "code",
   "execution_count": null,
   "metadata": {
    "slideshow": {
     "slide_type": "fragment"
    }
   },
   "outputs": [],
   "source": [
    "# Our first program\n",
    "print('Hello Students!')"
   ]
  },
  {
   "cell_type": "markdown",
   "metadata": {
    "slideshow": {
     "slide_type": "fragment"
    }
   },
   "source": [
    "<div class=\"alert alert-info\">\n",
    "    Actually, in a Jupyter notebook, you do not need to use <code>print</code> to see the value of an expression (when it appears at the end of the cell).\n",
    "    In the remainder, we will often omit the <code>print</code> statement when playing with expressions (or variables).\n",
    "</div>"
   ]
  },
  {
   "cell_type": "code",
   "execution_count": null,
   "metadata": {
    "slideshow": {
     "slide_type": "fragment"
    }
   },
   "outputs": [],
   "source": [
    "'Hello Students!'"
   ]
  },
  {
   "cell_type": "markdown",
   "metadata": {
    "slideshow": {
     "slide_type": "skip"
    },
    "tags": []
   },
   "source": [
    "<div class=\"alert alert-success\">\n",
    "    <b>Do It Yourself!</b><br>\n",
    "    Can you print the text \"Hello Software Developers!\"?\n",
    "</div>"
   ]
  },
  {
   "cell_type": "code",
   "execution_count": null,
   "metadata": {
    "slideshow": {
     "slide_type": "skip"
    },
    "tags": []
   },
   "outputs": [],
   "source": [
    "# Remove this line and add your code here"
   ]
  },
  {
   "cell_type": "markdown",
   "metadata": {},
   "source": [
    "We can also \"add\" multiple strings when using the `print` function.\n",
    "We do this by separating the strings by commas within the function call."
   ]
  },
  {
   "cell_type": "code",
   "execution_count": null,
   "metadata": {},
   "outputs": [],
   "source": [
    "print('Hello', 'First', 'Year', 'Students!')"
   ]
  },
  {
   "cell_type": "markdown",
   "metadata": {},
   "source": [
    "Notice that we didn't need to add a space (`' '`) at the end of the words.\n",
    "Python adds them by default.\n",
    "If you want to change or remove this behaviour you can use the following code."
   ]
  },
  {
   "cell_type": "code",
   "execution_count": null,
   "metadata": {},
   "outputs": [],
   "source": [
    "# Removes the space between words\n",
    "print('Hello', 'First', 'Year', 'Students!', sep='') \n",
    "\n",
    "# Changes the space between words by a \"-\"\n",
    "print('Hello', 'First', 'Year', 'Students!', sep='-') "
   ]
  },
  {
   "cell_type": "markdown",
   "metadata": {
    "slideshow": {
     "slide_type": "slide"
    }
   },
   "source": [
    "## 9. Arithmetic Operators <a class=\"anchor\" id=\"arithmetic-operators\"></a>\n",
    "\n",
    "The fact that Python interprets its programs allows us to immediately execute Python statements/expressions, such as the print statement for \"Hello First Year Students!\".\n",
    "\n",
    "The arithmetic operators `+`, `-`, `*` perform addition, subtraction, and multiplication, as demonstrated in the following cells."
   ]
  },
  {
   "cell_type": "code",
   "execution_count": null,
   "metadata": {
    "slideshow": {
     "slide_type": "fragment"
    }
   },
   "outputs": [],
   "source": [
    "40 + 2"
   ]
  },
  {
   "cell_type": "code",
   "execution_count": null,
   "metadata": {
    "slideshow": {
     "slide_type": "fragment"
    }
   },
   "outputs": [],
   "source": [
    "43 - 1"
   ]
  },
  {
   "cell_type": "code",
   "execution_count": null,
   "metadata": {
    "slideshow": {
     "slide_type": "fragment"
    }
   },
   "outputs": [],
   "source": [
    "6 * 7"
   ]
  },
  {
   "cell_type": "code",
   "execution_count": null,
   "metadata": {
    "slideshow": {
     "slide_type": "fragment"
    }
   },
   "outputs": [],
   "source": [
    "100 * (100 + 1)"
   ]
  },
  {
   "cell_type": "markdown",
   "metadata": {
    "slideshow": {
     "slide_type": "skip"
    },
    "tags": []
   },
   "source": [
    "<div class=\"alert alert-success\">\n",
    "    <b>Do It Yourself!</b><br>\n",
    "    Can you add 40 to 25, then multiply it by 2, and finally substracting 5? \n",
    "</div>"
   ]
  },
  {
   "cell_type": "code",
   "execution_count": null,
   "metadata": {
    "slideshow": {
     "slide_type": "skip"
    },
    "tags": []
   },
   "outputs": [],
   "source": [
    "# Remove this line and add your code here"
   ]
  },
  {
   "cell_type": "markdown",
   "metadata": {
    "slideshow": {
     "slide_type": "subslide"
    }
   },
   "source": [
    "**More arithmetic operators**  \n",
    "The operator `/` performs a division and the operator `**` is the \"to the power\" operator. "
   ]
  },
  {
   "cell_type": "code",
   "execution_count": null,
   "metadata": {
    "slideshow": {
     "slide_type": "fragment"
    }
   },
   "outputs": [],
   "source": [
    "84 / 2"
   ]
  },
  {
   "cell_type": "code",
   "execution_count": null,
   "metadata": {
    "slideshow": {
     "slide_type": "fragment"
    }
   },
   "outputs": [],
   "source": [
    "100 * (100 + 1) / 2"
   ]
  },
  {
   "cell_type": "code",
   "execution_count": null,
   "metadata": {
    "slideshow": {
     "slide_type": "fragment"
    }
   },
   "outputs": [],
   "source": [
    "6**2 + 6"
   ]
  },
  {
   "cell_type": "markdown",
   "metadata": {
    "slideshow": {
     "slide_type": "subslide"
    }
   },
   "source": [
    "Beware of the priorities, use brackets when in doubt!"
   ]
  },
  {
   "cell_type": "code",
   "execution_count": null,
   "metadata": {
    "slideshow": {
     "slide_type": "fragment"
    }
   },
   "outputs": [],
   "source": [
    "100 * 100 + 1 / 2"
   ]
  },
  {
   "cell_type": "markdown",
   "metadata": {
    "slideshow": {
     "slide_type": "skip"
    },
    "tags": []
   },
   "source": [
    "<div class=\"alert alert-success\">\n",
    "    <b>Do It Yourself!</b><br>\n",
    "    Let's compute the area of a circle with a radius of $r = 10$. Remember that the area of a circle is computed as $a = \\pi r^2$.\n",
    "</div>"
   ]
  },
  {
   "cell_type": "code",
   "execution_count": null,
   "metadata": {
    "slideshow": {
     "slide_type": "skip"
    },
    "tags": []
   },
   "outputs": [],
   "source": [
    "# Use 3.141592653589793 as the value for pi\n",
    "\n",
    "# Remove this line and add your code here"
   ]
  },
  {
   "cell_type": "markdown",
   "metadata": {
    "slideshow": {
     "slide_type": "slide"
    }
   },
   "source": [
    "## 10. What Can Go Wrong? <a class=\"anchor\" id=\"wrong\"></a>\n",
    "\n",
    "While writing your program you will introduce errors, and it is completely normal! \n",
    "However, it will be easier to fix them if you know the four types of errors that you will find.\n",
    "\n",
    "- **Syntax errors:** “Syntax” refers to the structure of a program and the rules about that structure. For example, in English the construct \"She all night\" has a syntax error because there is no verb that completes the sentence. To fix this issue you should add a verb like \"She studies all night\". Now, if you run the following cell you will get a syntax error in Python. This happens because we forgot to end the line with the closing parenthesis ')'."
   ]
  },
  {
   "cell_type": "code",
   "execution_count": null,
   "metadata": {},
   "outputs": [],
   "source": [
    "print('Hello First Year Students!'"
   ]
  },
  {
   "cell_type": "markdown",
   "metadata": {},
   "source": [
    "- **Runtime errors:** these errors do not appear until the program has started running. Can you think of a runtime error?"
   ]
  },
  {
   "cell_type": "markdown",
   "metadata": {},
   "source": [
    "What happens if we execute the following instructions?"
   ]
  },
  {
   "cell_type": "code",
   "execution_count": null,
   "metadata": {},
   "outputs": [],
   "source": [
    "print(66/0)"
   ]
  },
  {
   "cell_type": "markdown",
   "metadata": {},
   "source": [
    "- **Logic errors:** they appear when there is an invalid order in your program. For instance, in English the construct \"She was an adult, then was a child and now she is baby\" has logic errors. It would make more sense if we say \"She is baby, then she will be a child and after an adult.\". \n",
    "\n",
    "- **Semantic errors:** “Semantic” refers to meaning. These errors appear when the program does not do what it is supposed to do. If there is a semantic error in your program, it will run without generating error\n",
    "messages, but it will not do the right thing. It will do something else. Specifically, it will do what you told it to do. For example, you compute the addition between two numbers but the program was supposed to compute the difference.\n",
    "\n",
    "<div class=\"alert alert-info\">\n",
    "    Semantic errors are often related to not fully understanding the problem. An important step in developing software is the <i>requirements engineering</i>, identifying \n",
    "the problem of a customer. Sometimes this is also formulated as: <q>Building the software right vs building the right software.</q>\n",
    "</div>"
   ]
  },
  {
   "cell_type": "markdown",
   "metadata": {},
   "source": [
    "## 11. Summary <a class=\"anchor\" id=\"summary\"></a>\n",
    "\n",
    "In this notebook we have discussed how to use these notebooks. We introduced the concept of algorithms, which are important when developing code. We continued with the concept of programming languages and sketched the history of Python. We discussed what are programs, that they are written in a specific programming language and implement an algorithm. We briefly explained how programs are executed, by either an interpreter or via a compiler.\n",
    "\n",
    "We explained why writing comments are important when developing software. We introduced the first real Python programs. Next, we showed that Python can be directly used to evaluate (complicated) arithmetic expressions.\n",
    "\n",
    "Finally, we discussed the possible errors that may pop up when developing code."
   ]
  },
  {
   "cell_type": "markdown",
   "metadata": {},
   "source": [
    "---\n",
    "\n",
    "# (End of Notebook)\n"
   ]
  }
 ],
 "metadata": {
  "anaconda-cloud": {},
  "kernelspec": {
   "display_name": "Python 3",
   "language": "python",
   "name": "python3"
  },
  "language_info": {
   "codemirror_mode": {
    "name": "ipython",
    "version": 3
   },
   "file_extension": ".py",
   "mimetype": "text/x-python",
   "name": "python",
   "nbconvert_exporter": "python",
   "pygments_lexer": "ipython3",
   "version": "3.8.8"
  }
 },
 "nbformat": 4,
 "nbformat_minor": 4
}
